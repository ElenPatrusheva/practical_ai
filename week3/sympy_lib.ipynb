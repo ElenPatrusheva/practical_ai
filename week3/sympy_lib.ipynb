{
 "cells": [
  {
   "cell_type": "code",
   "execution_count": 2,
   "metadata": {},
   "outputs": [
    {
     "name": "stdout",
     "output_type": "stream",
     "text": [
      "Collecting sympy\n",
      "\u001b[?25l  Downloading https://files.pythonhosted.org/packages/ce/5b/acc12e3c0d0be685601fc2b2d20ed18dc0bf461380e763afc9d0a548deb0/sympy-1.5.1-py2.py3-none-any.whl (5.6MB)\n",
      "\u001b[K     |████████████████████████████████| 5.6MB 529kB/s eta 0:00:01\n",
      "\u001b[?25hCollecting mpmath>=0.19 (from sympy)\n",
      "\u001b[?25l  Downloading https://files.pythonhosted.org/packages/ca/63/3384ebb3b51af9610086b23ea976e6d27d6d97bf140a76a365bd77a3eb32/mpmath-1.1.0.tar.gz (512kB)\n",
      "\u001b[K     |████████████████████████████████| 522kB 11.2MB/s eta 0:00:01\n",
      "\u001b[?25hBuilding wheels for collected packages: mpmath\n",
      "  Building wheel for mpmath (setup.py) ... \u001b[?25ldone\n",
      "\u001b[?25h  Stored in directory: /apt/.cache/pip/wheels/63/9d/8e/37c3f6506ed3f152733a699e92d8e0c9f5e5f01dea262f80ad\n",
      "Successfully built mpmath\n",
      "Installing collected packages: mpmath, sympy\n",
      "Successfully installed mpmath-1.1.0 sympy-1.5.1\n",
      "\u001b[33mWARNING: You are using pip version 19.1.1, however version 20.0.2 is available.\n",
      "You should consider upgrading via the 'pip install --upgrade pip' command.\u001b[0m\n"
     ]
    }
   ],
   "source": [
    "!pip install sympy"
   ]
  },
  {
   "cell_type": "code",
   "execution_count": 3,
   "metadata": {},
   "outputs": [],
   "source": [
    "# find discount rate, that will give positive NPV for a given cash flow\n",
    "# search for real roots only\n",
    "import sympy\n",
    "from sympy import S, Eq\n",
    "from sympy.solvers import solveset"
   ]
  },
  {
   "cell_type": "code",
   "execution_count": 12,
   "metadata": {},
   "outputs": [],
   "source": [
    "def discount_rate(cashflow, npv):\n",
    "    '''\n",
    "    cashflow - an array of [-C0, C1, C2, ...] first negative and then positive numbers\n",
    "    npv - expected value of NPV\n",
    "    '''\n",
    "    \n",
    "    r = sympy.symbols('r')  # value we are looking for. Use sumpy to solve for 'r'\n",
    "    T = len(cashflow)  # in case you need it\n",
    "    sum = 0\n",
    "    for i in range(T):\n",
    "        sum += cashflow[i] / (1 + r) ** i\n",
    "    ############# TODO ##############\n",
    "    ##### WRITE SOME CODE HERE ######\n",
    "    ##### FILL 'sum' with NPV sum ###\n",
    "    \n",
    "    print(sum)\n",
    "    x = solveset(Eq(sum, npv), r, domain=S.Reals)\n",
    "\n",
    "    for i in x:\n",
    "        if i.evalf() > 0:\n",
    "            return i.evalf()\n",
    "    \n",
    "    raise Error(\"No real solution found\")\n",
    "        "
   ]
  },
  {
   "cell_type": "code",
   "execution_count": 11,
   "metadata": {},
   "outputs": [
    {
     "name": "stdout",
     "output_type": "stream",
     "text": [
      "-100 + 50/(r + 1) + 50/(r + 1)**2 + 50/(r + 1)**3\n",
      "0.233751928528259\n"
     ]
    }
   ],
   "source": [
    "print(discount_rate([-100, 50, 50, 50], 0))"
   ]
  },
  {
   "cell_type": "code",
   "execution_count": null,
   "metadata": {
    "collapsed": true,
    "jupyter": {
     "outputs_hidden": true
    }
   },
   "outputs": [],
   "source": []
  },
  {
   "cell_type": "code",
   "execution_count": null,
   "metadata": {},
   "outputs": [],
   "source": []
  }
 ],
 "metadata": {
  "kernelspec": {
   "display_name": "Python 3",
   "language": "python",
   "name": "python3"
  },
  "language_info": {
   "codemirror_mode": {
    "name": "ipython",
    "version": 3
   },
   "file_extension": ".py",
   "mimetype": "text/x-python",
   "name": "python",
   "nbconvert_exporter": "python",
   "pygments_lexer": "ipython3",
   "version": "3.6.8"
  }
 },
 "nbformat": 4,
 "nbformat_minor": 4
}
