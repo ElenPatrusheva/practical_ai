{
 "cells": [
  {
   "cell_type": "code",
   "execution_count": 1,
   "metadata": {},
   "outputs": [],
   "source": [
    "import requests\n",
    "from bs4 import BeautifulSoup\n",
    "\n",
    "# 1. register at https://www.wolframalpha.com/\n",
    "# 2. Get App ID at http://developer.wolframalpha.com/portal/myapps/\n",
    "APP_NAME = \"week3\"\n",
    "APPID = open(\"app_id\").read()\n",
    "API = \"http://api.wolframalpha.com/v2/query?input={}&appid={}\""
   ]
  },
  {
   "cell_type": "code",
   "execution_count": 2,
   "metadata": {},
   "outputs": [],
   "source": [
    "def ask(query):\n",
    "    print(\"Asking:\", query)\n",
    "    resp = requests.get(API.format(query, APPID))\n",
    "    if resp.status_code != 200:\n",
    "        return None\n",
    "    dom = BeautifulSoup(resp.text, \"lxml\")\n",
    "    result = dom.queryresult.findAll(\"pod\", id=\"Solution\")\n",
    "    if not result:\n",
    "        result = dom.queryresult.findAll(\"pod\", id=\"Result\")\n",
    "    if not result:\n",
    "        result = dom.queryresult.findAll(\"pod\", id=\"ChemicalNamesFormulas:ChemicalData\")\n",
    "        \n",
    "    subpods = result[0].findAll(\"subpod\")\n",
    "    return list(pod.plaintext.string for pod in subpods)"
   ]
  },
  {
   "cell_type": "code",
   "execution_count": 10,
   "metadata": {},
   "outputs": [
    {
     "name": "stdout",
     "output_type": "stream",
     "text": [
      "Asking: what is your name?\n",
      "My name is Wolfram|Alpha.\n"
     ]
    }
   ],
   "source": [
    "'''response = ask(\"x^2=2\")\n",
    "print(*response, sep=\"; \")\n",
    "print(\"=====================\")\n",
    "response = ask(\"Woodstock people\")\n",
    "print(*response, sep=\"; \")\n",
    "print(\"=====================\")'''\n",
    "response = ask(\"what is your name?\")\n",
    "print(*response, sep=\"; \")"
   ]
  },
  {
   "cell_type": "code",
   "execution_count": null,
   "metadata": {
    "collapsed": true,
    "jupyter": {
     "outputs_hidden": true
    }
   },
   "outputs": [],
   "source": []
  }
 ],
 "metadata": {
  "kernelspec": {
   "display_name": "Python 3",
   "language": "python",
   "name": "python3"
  },
  "language_info": {
   "codemirror_mode": {
    "name": "ipython",
    "version": 3
   },
   "file_extension": ".py",
   "mimetype": "text/x-python",
   "name": "python",
   "nbconvert_exporter": "python",
   "pygments_lexer": "ipython3",
   "version": "3.6.8"
  }
 },
 "nbformat": 4,
 "nbformat_minor": 4
}
