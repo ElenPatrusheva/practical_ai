{
  "nbformat": 4,
  "nbformat_minor": 0,
  "metadata": {
    "kernelspec": {
      "display_name": "Python 3",
      "language": "python",
      "name": "python3"
    },
    "language_info": {
      "codemirror_mode": {
        "name": "ipython",
        "version": 3
      },
      "file_extension": ".py",
      "mimetype": "text/x-python",
      "name": "python",
      "nbconvert_exporter": "python",
      "pygments_lexer": "ipython3",
      "version": "3.6.8"
    },
    "colab": {
      "name": "hw (1).ipynb",
      "provenance": [],
      "collapsed_sections": []
    }
  },
  "cells": [
    {
      "cell_type": "markdown",
      "metadata": {
        "id": "1ekG7iL7eSyt",
        "colab_type": "text"
      },
      "source": [
        "Remove punctuation"
      ]
    },
    {
      "cell_type": "code",
      "metadata": {
        "id": "UJrGrKCadXlC",
        "colab_type": "code",
        "colab": {}
      },
      "source": [
        "from nltk.tokenize import RegexpTokenizer\n",
        "from nltk.corpus import stopwords\n",
        "\n",
        "#nltk.download('stopwords')\n",
        "def clean_query(query):\n",
        "  # rm punctuation\n",
        "  tokenizer = RegexpTokenizer(r'\\w+')\n",
        "  filtered = tokenizer.tokenize(query.lower())\n",
        "  # rm stopwords\n",
        "  #filtered = [word for word in filtered if word not in stopwords.words('english')]\n",
        "  return ' '.join(filtered)"
      ],
      "execution_count": 0,
      "outputs": []
    },
    {
      "cell_type": "code",
      "metadata": {
        "id": "hJTzzTxVfaFj",
        "colab_type": "code",
        "colab": {}
      },
      "source": [
        "queries = ['siri, tell me about geometry', 'call my mum', 'Tell me about Elon Musk', 'Calculate three plus three', 'Hey, call my mum', 'what is equilibrium', 'Can you play “Thriller” by Michael Jackson?']\n",
        "cleaned_list = [clean_query(q) for q in queries]"
      ],
      "execution_count": 0,
      "outputs": []
    },
    {
      "cell_type": "code",
      "metadata": {
        "id": "KAkL8McN5EcV",
        "colab_type": "code",
        "outputId": "ac7b4380-bbc6-4306-96b9-70aecd11b2a5",
        "colab": {
          "base_uri": "https://localhost:8080/",
          "height": 151
        }
      },
      "source": [
        "cleaned_list"
      ],
      "execution_count": 52,
      "outputs": [
        {
          "output_type": "execute_result",
          "data": {
            "text/plain": [
              "['siri tell me about geometry',\n",
              " 'call my mum',\n",
              " 'tell me about elon musk',\n",
              " 'calculate three plus three',\n",
              " 'hey call my mum',\n",
              " 'what is equilibrium',\n",
              " 'can you play thriller by michael jackson']"
            ]
          },
          "metadata": {
            "tags": []
          },
          "execution_count": 52
        }
      ]
    },
    {
      "cell_type": "code",
      "metadata": {
        "id": "5Ao93KROgNiC",
        "colab_type": "code",
        "outputId": "1dbd82b1-8c69-459b-e5e9-d5d9c048d980",
        "colab": {
          "base_uri": "https://localhost:8080/",
          "height": 743
        }
      },
      "source": [
        "import spacy\n",
        "\n",
        "nlp = spacy.load(\"en_core_web_sm\")\n",
        "docs = [nlp(cleaned) for cleaned in cleaned_list]\n",
        "for doc in docs:\n",
        "  for token in doc:\n",
        "      print(token.text, token.dep_, token.pos_,  f'{[ch for ch in token.children]}')\n",
        "  print()"
      ],
      "execution_count": 53,
      "outputs": [
        {
          "output_type": "stream",
          "text": [
            "siri nsubj NOUN []\n",
            "tell ROOT VERB [siri, me, about]\n",
            "me dobj PRON []\n",
            "about prep ADP [geometry]\n",
            "geometry pobj NOUN []\n",
            "\n",
            "call ROOT VERB [mum]\n",
            "my poss DET []\n",
            "mum dobj NOUN [my]\n",
            "\n",
            "tell ROOT VERB [me, about]\n",
            "me dobj PRON []\n",
            "about prep ADP [musk]\n",
            "elon compound NOUN []\n",
            "musk pobj NOUN [elon]\n",
            "\n",
            "calculate ROOT VERB [three]\n",
            "three dobj NUM [plus, three]\n",
            "plus cc CCONJ []\n",
            "three conj NUM []\n",
            "\n",
            "hey intj INTJ []\n",
            "call ROOT VERB [hey, mum]\n",
            "my poss DET []\n",
            "mum dobj NOUN [my]\n",
            "\n",
            "what attr PRON []\n",
            "is ROOT VERB [what, equilibrium]\n",
            "equilibrium nsubj NOUN []\n",
            "\n",
            "can aux VERB []\n",
            "you nsubj PRON []\n",
            "play ROOT VERB [can, you, thriller, by]\n",
            "thriller dobj NOUN []\n",
            "by prep ADP [jackson]\n",
            "michael compound ADJ []\n",
            "jackson pobj NOUN [michael]\n",
            "\n"
          ],
          "name": "stdout"
        }
      ]
    },
    {
      "cell_type": "code",
      "metadata": {
        "id": "cgMCQpMhwPXG",
        "colab_type": "code",
        "outputId": "c3fd3e23-fe1b-400d-e0b1-44c6f24ef49b",
        "colab": {
          "base_uri": "https://localhost:8080/",
          "height": 552
        }
      },
      "source": [
        "def find_all(tokens):\n",
        "  root = [t for t in tokens if t.dep_ == 'ROOT'][0]\n",
        "  print(f'Action is: {root.text}')\n",
        "  obj, subj = None, None\n",
        "  for ch in root.children:\n",
        "    if 'obj' in ch.dep_:\n",
        "      obj = ch\n",
        "    if 'subj' in ch.dep_:\n",
        "      subj = ch.text\n",
        "  if subj == None:\n",
        "    subj = 'Assistant'\n",
        "  if obj != None:\n",
        "    print(f'Object is: {obj.text}')\n",
        "  else:\n",
        "    print('There is no object')\n",
        "  print(f'Subject is: {subj}')\n",
        "  print()\n",
        "  return [root, obj, subj]\n",
        "arr = [find_all(t) for t in docs]"
      ],
      "execution_count": 54,
      "outputs": [
        {
          "output_type": "stream",
          "text": [
            "Action is: tell\n",
            "Object is: me\n",
            "Subject is: siri\n",
            "\n",
            "Action is: call\n",
            "Object is: mum\n",
            "Subject is: Assistant\n",
            "\n",
            "Action is: tell\n",
            "Object is: me\n",
            "Subject is: Assistant\n",
            "\n",
            "Action is: calculate\n",
            "Object is: three\n",
            "Subject is: Assistant\n",
            "\n",
            "Action is: call\n",
            "Object is: mum\n",
            "Subject is: Assistant\n",
            "\n",
            "Action is: is\n",
            "There is no object\n",
            "Subject is: equilibrium\n",
            "\n",
            "Action is: play\n",
            "Object is: thriller\n",
            "Subject is: you\n",
            "\n"
          ],
          "name": "stdout"
        }
      ]
    },
    {
      "cell_type": "code",
      "metadata": {
        "id": "a3PF8WMR4LIa",
        "colab_type": "code",
        "colab": {}
      },
      "source": [
        ""
      ],
      "execution_count": 0,
      "outputs": []
    },
    {
      "cell_type": "code",
      "metadata": {
        "id": "-jfDFgOC0JsW",
        "colab_type": "code",
        "colab": {}
      },
      "source": [
        "math_action = ['evaluate', 'sum', 'calculate', 'integrate', 'subtruct', 'multiply', 'count']\n",
        "get_info_action = ['tell', 'read', 'explain']\n",
        "interraction_action = ['call', 'text', 'message', 'play']\n",
        "define_action = ['is', 'am', 'are']"
      ],
      "execution_count": 0,
      "outputs": []
    },
    {
      "cell_type": "code",
      "metadata": {
        "id": "13wXEfwf4ZN1",
        "colab_type": "code",
        "colab": {
          "base_uri": "https://localhost:8080/",
          "height": 857
        },
        "outputId": "5cbf7e82-ec85-4b0e-9bb1-d37f79ea2948"
      },
      "source": [
        "def process_query(action, obj, subj, tokens):\n",
        "  if action.text in math_action:\n",
        "    # TODO: use Wolfram api\n",
        "    print('using wolfram alpha')\n",
        "    from_n = 0\n",
        "    for i in range(len(tokens)):\n",
        "      if tokens[i] == obj:\n",
        "        from_n = i\n",
        "        break\n",
        "    print (f'request is: {tokens[i:]}\\n')\n",
        "    return \n",
        "  if action.text in get_info_action:\n",
        "    for i in range(len(tokens)):\n",
        "      if tokens[i] == obj:\n",
        "        from_n = i\n",
        "        break\n",
        "    print (f'here is the info about: {tokens[i+1:]}\\n')\n",
        "    return \n",
        "  if action.text in interraction_action:\n",
        "    for i in range(len(tokens)):\n",
        "      if tokens[i] == obj:\n",
        "        from_n = i\n",
        "        break\n",
        "    print(f'Assistant will {action.text} {tokens[i:]}\\n')\n",
        "    return\n",
        "  if action.text in define_action:\n",
        "    print(f'Info about {subj} will be found\\n')\n",
        "    return\n",
        "  print('sorry, query is not match any possibilities\\n')\n",
        "\n",
        "  \n",
        "\n",
        "[process_query(*(find_all(tokens)), tokens) for tokens in docs]"
      ],
      "execution_count": 57,
      "outputs": [
        {
          "output_type": "stream",
          "text": [
            "Action is: tell\n",
            "Object is: me\n",
            "Subject is: siri\n",
            "\n",
            "here is the info about: about geometry\n",
            "\n",
            "Action is: call\n",
            "Object is: mum\n",
            "Subject is: Assistant\n",
            "\n",
            "Assistant will call mum\n",
            "\n",
            "Action is: tell\n",
            "Object is: me\n",
            "Subject is: Assistant\n",
            "\n",
            "here is the info about: about elon musk\n",
            "\n",
            "Action is: calculate\n",
            "Object is: three\n",
            "Subject is: Assistant\n",
            "\n",
            "using wolfram alpha\n",
            "request is: three plus three\n",
            "\n",
            "Action is: call\n",
            "Object is: mum\n",
            "Subject is: Assistant\n",
            "\n",
            "Assistant will call mum\n",
            "\n",
            "Action is: is\n",
            "There is no object\n",
            "Subject is: equilibrium\n",
            "\n",
            "Info about equilibrium will be found\n",
            "\n",
            "Action is: play\n",
            "Object is: thriller\n",
            "Subject is: you\n",
            "\n",
            "Assistant will play thriller by michael jackson\n",
            "\n"
          ],
          "name": "stdout"
        },
        {
          "output_type": "execute_result",
          "data": {
            "text/plain": [
              "[None, None, None, None, None, None, None]"
            ]
          },
          "metadata": {
            "tags": []
          },
          "execution_count": 57
        }
      ]
    },
    {
      "cell_type": "code",
      "metadata": {
        "id": "skxafN8W8r6R",
        "colab_type": "code",
        "colab": {}
      },
      "source": [
        ""
      ],
      "execution_count": 0,
      "outputs": []
    }
  ]
}