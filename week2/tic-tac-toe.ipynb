{
 "cells": [
  {
   "cell_type": "code",
   "execution_count": 1,
   "metadata": {},
   "outputs": [],
   "source": [
    "import numpy as np\n",
    "import re\n",
    "import copy\n",
    "import random"
   ]
  },
  {
   "cell_type": "markdown",
   "metadata": {},
   "source": [
    "# Part related to the board"
   ]
  },
  {
   "cell_type": "code",
   "execution_count": 2,
   "metadata": {},
   "outputs": [],
   "source": [
    "'''\n",
    "0: cell is empty\n",
    "1: cell is occupied by cross\n",
    "2: cell is occupied by circle\n",
    "'''\n",
    "def init_board():\n",
    "    return np.zeros((3, 3), dtype=int)\n",
    "def is_empty(x, y, board):\n",
    "    return not board[x][y]\n",
    "\n",
    "def display(board):\n",
    "    values = list(map(lambda x: ' ' if x==0 else ('\\u20dd' if x==2 else '\\u2a09') , board.flatten()))\n",
    "    mystr = '''\n",
    "    +---+---+---+---+\n",
    "    |   | 0 | 1 | 2 |\n",
    "    |---+---+---+---|\n",
    "    | 0 | {} | {} | {} |\n",
    "    |---+---+---+---|\n",
    "    | 1 | {} | {} | {} |\n",
    "    |---+---+---+---|\n",
    "    | 2 | {} | {} | {} |\n",
    "    +---+---+---+---+\n",
    "    '''.format(*values)\n",
    "    print(mystr)\n",
    "\n",
    "def exist_combo(board):\n",
    "    if np.any(np.sum(board, axis=1) == 3):\n",
    "        return True\n",
    "    if np.any(np.sum(board, axis=0) == 3):\n",
    "        return True\n",
    "    if np.trace(board) == 3:\n",
    "        return True\n",
    "    if np.trace(board.T) == 3:\n",
    "        return True\n",
    "    return False\n",
    "\n",
    "\n",
    "def is_end(board):\n",
    "    crosses = np.zeros_like(board)\n",
    "    crosses[board == 1] = 1\n",
    "    if exist_combo(crosses):\n",
    "        return True, 1\n",
    "    circles = np.zeros_like(board)\n",
    "    circles[board == 2] = 1\n",
    "    if exist_combo(circles):\n",
    "        return True, 2\n",
    "    if np.sum(board > 0)== 9:\n",
    "        return True, None\n",
    "    return False, None\n",
    "\n",
    "def make_move(x, y, board):\n",
    "    if x < 0 or x > 2 or y < 0 or y > 2:\n",
    "        print (f'Coordinates ({x}, {y}) are not in the board')\n",
    "        return False\n",
    "    if is_empty(x, y, board):\n",
    "        return True\n",
    "    print(f'Coordinates ({x}, {y}) are already occupied, change coordinates')\n",
    "    return False"
   ]
  },
  {
   "cell_type": "markdown",
   "metadata": {},
   "source": [
    "# Players"
   ]
  },
  {
   "cell_type": "code",
   "execution_count": 3,
   "metadata": {},
   "outputs": [],
   "source": [
    "def bot_turn(board, turn):\n",
    "    cell = choose_move(board, turn, turn)\n",
    "    board[cell[0]][cell[1]] = turn\n",
    "    print(f'Bot makes move {cell}')\n",
    "    return board\n",
    "\n",
    "def player_turn(board, turn):\n",
    "    while True:\n",
    "        print('Enter x and y coordinates: x y')\n",
    "        try:\n",
    "            raw_inp = input()\n",
    "            inp = re.split('[, ]+', raw_inp)\n",
    "            x, y = int(inp[0]), int(inp[1])\n",
    "        except:\n",
    "            print(f'Input format {raw_input} is incorect')\n",
    "            continue\n",
    "        if make_move(x, y, board):\n",
    "            board[x][y] = turn\n",
    "            print(\"You've made a move\")\n",
    "            break\n",
    "    return board"
   ]
  },
  {
   "cell_type": "markdown",
   "metadata": {},
   "source": [
    "# Smart part"
   ]
  },
  {
   "cell_type": "code",
   "execution_count": 4,
   "metadata": {},
   "outputs": [],
   "source": [
    "def free_cells(board):\n",
    "    return np.argwhere(board == 0)\n",
    "\n",
    "def choose_move(board, turn, winner):\n",
    "    return max_choice(copy.deepcopy(board), turn, winner)\n",
    "\n",
    "def max_choice(board, turn, winner):\n",
    "    \n",
    "    cells = free_cells(board)\n",
    "    values = []\n",
    "    for i in cells:\n",
    "        new_board = copy.deepcopy(board)\n",
    "        new_board[i[0]][i[1]] = turn\n",
    "        values.append(min_choice(new_board, 2 - (turn + 1) % 2, winner))\n",
    "    possible_choices = np.argwhere(values == np.max(values)).flatten()\n",
    "    cell_ind = random.choice(possible_choices)\n",
    "    return cells[cell_ind]\n",
    "\n",
    "def min_choice(board, turn, winner):\n",
    "    status = is_end(board)\n",
    "    if status[0]:\n",
    "        if status[1] == None:\n",
    "            return 0\n",
    "        elif status[1] == winner:\n",
    "            return 1\n",
    "        else:\n",
    "            return -1\n",
    "    cells = free_cells(board)\n",
    "    values = []\n",
    "    for i in cells:\n",
    "        new_board = copy.deepcopy(board)\n",
    "        new_board[i[0]][i[1]] = turn\n",
    "        values.append(init_walking(new_board, 2 - (turn + 1) % 2, winner))\n",
    "    return min(values)\n",
    "        \n",
    "\n",
    "def init_walking(board, turn, winner):\n",
    "    # check if the game is already over\n",
    "    status = is_end(board)\n",
    "    if status[0]:\n",
    "        if status[1] == None:\n",
    "            return 0\n",
    "        elif status[1] == winner:\n",
    "            return 1\n",
    "        else:\n",
    "            return -1\n",
    "    counter = 0\n",
    "    for i in range(20):\n",
    "        cells = free_cells(board)\n",
    "        new_board = copy.deepcopy(board)\n",
    "        cell = cells[np.random.randint(len(cells))]\n",
    "        new_board[cell[0]][cell[1]] = turn\n",
    "        counter += recursive_walk(new_board, 2 - (turn + 1) % 2, winner)\n",
    "    return counter / 20\n",
    "\n",
    "def recursive_walk(board, turn, winner):\n",
    "    \n",
    "    status = is_end(board)\n",
    "    if status[0]:\n",
    "        if status[1] == None:\n",
    "            return 0\n",
    "        elif status[1] == winner:\n",
    "            return 1\n",
    "        else:\n",
    "            return -1\n",
    "        \n",
    "    cells = free_cells(board)\n",
    "    new_board = copy.deepcopy(board)\n",
    "    cell = cells[np.random.randint(len(cells))]\n",
    "    new_board[cell[0]][cell[1]] = turn \n",
    "    return recursive_walk(new_board, 2 - (turn + 1) % 2, winner)"
   ]
  },
  {
   "cell_type": "markdown",
   "metadata": {},
   "source": [
    "# Game itself"
   ]
  },
  {
   "cell_type": "code",
   "execution_count": 5,
   "metadata": {},
   "outputs": [
    {
     "name": "stdout",
     "output_type": "stream",
     "text": [
      "The new game starts. Please choose your turn (1 or 2)\n"
     ]
    },
    {
     "name": "stdin",
     "output_type": "stream",
     "text": [
      " 2\n"
     ]
    },
    {
     "name": "stdout",
     "output_type": "stream",
     "text": [
      "\n",
      "    +---+---+---+---+\n",
      "    |   | 0 | 1 | 2 |\n",
      "    |---+---+---+---|\n",
      "    | 0 |   |   |   |\n",
      "    |---+---+---+---|\n",
      "    | 1 |   |   |   |\n",
      "    |---+---+---+---|\n",
      "    | 2 |   |   |   |\n",
      "    +---+---+---+---+\n",
      "    \n",
      "Bot makes move [1 1]\n",
      "\n",
      "    +---+---+---+---+\n",
      "    |   | 0 | 1 | 2 |\n",
      "    |---+---+---+---|\n",
      "    | 0 |   |   |   |\n",
      "    |---+---+---+---|\n",
      "    | 1 |   | ⨉ |   |\n",
      "    |---+---+---+---|\n",
      "    | 2 |   |   |   |\n",
      "    +---+---+---+---+\n",
      "    \n",
      "Enter x and y coordinates: x y\n"
     ]
    },
    {
     "name": "stdin",
     "output_type": "stream",
     "text": [
      " 0 0\n"
     ]
    },
    {
     "name": "stdout",
     "output_type": "stream",
     "text": [
      "You've made a move\n",
      "\n",
      "    +---+---+---+---+\n",
      "    |   | 0 | 1 | 2 |\n",
      "    |---+---+---+---|\n",
      "    | 0 | ⃝ |   |   |\n",
      "    |---+---+---+---|\n",
      "    | 1 |   | ⨉ |   |\n",
      "    |---+---+---+---|\n",
      "    | 2 |   |   |   |\n",
      "    +---+---+---+---+\n",
      "    \n",
      "Bot makes move [1 0]\n",
      "\n",
      "    +---+---+---+---+\n",
      "    |   | 0 | 1 | 2 |\n",
      "    |---+---+---+---|\n",
      "    | 0 | ⃝ |   |   |\n",
      "    |---+---+---+---|\n",
      "    | 1 | ⨉ | ⨉ |   |\n",
      "    |---+---+---+---|\n",
      "    | 2 |   |   |   |\n",
      "    +---+---+---+---+\n",
      "    \n",
      "Enter x and y coordinates: x y\n"
     ]
    },
    {
     "name": "stdin",
     "output_type": "stream",
     "text": [
      " 1 2\n"
     ]
    },
    {
     "name": "stdout",
     "output_type": "stream",
     "text": [
      "You've made a move\n",
      "\n",
      "    +---+---+---+---+\n",
      "    |   | 0 | 1 | 2 |\n",
      "    |---+---+---+---|\n",
      "    | 0 | ⃝ |   |   |\n",
      "    |---+---+---+---|\n",
      "    | 1 | ⨉ | ⨉ | ⃝ |\n",
      "    |---+---+---+---|\n",
      "    | 2 |   |   |   |\n",
      "    +---+---+---+---+\n",
      "    \n",
      "Bot makes move [0 1]\n",
      "\n",
      "    +---+---+---+---+\n",
      "    |   | 0 | 1 | 2 |\n",
      "    |---+---+---+---|\n",
      "    | 0 | ⃝ | ⨉ |   |\n",
      "    |---+---+---+---|\n",
      "    | 1 | ⨉ | ⨉ | ⃝ |\n",
      "    |---+---+---+---|\n",
      "    | 2 |   |   |   |\n",
      "    +---+---+---+---+\n",
      "    \n",
      "Enter x and y coordinates: x y\n"
     ]
    },
    {
     "name": "stdin",
     "output_type": "stream",
     "text": [
      " 2 1\n"
     ]
    },
    {
     "name": "stdout",
     "output_type": "stream",
     "text": [
      "You've made a move\n",
      "\n",
      "    +---+---+---+---+\n",
      "    |   | 0 | 1 | 2 |\n",
      "    |---+---+---+---|\n",
      "    | 0 | ⃝ | ⨉ |   |\n",
      "    |---+---+---+---|\n",
      "    | 1 | ⨉ | ⨉ | ⃝ |\n",
      "    |---+---+---+---|\n",
      "    | 2 |   | ⃝ |   |\n",
      "    +---+---+---+---+\n",
      "    \n",
      "Bot makes move [2 2]\n",
      "\n",
      "    +---+---+---+---+\n",
      "    |   | 0 | 1 | 2 |\n",
      "    |---+---+---+---|\n",
      "    | 0 | ⃝ | ⨉ |   |\n",
      "    |---+---+---+---|\n",
      "    | 1 | ⨉ | ⨉ | ⃝ |\n",
      "    |---+---+---+---|\n",
      "    | 2 |   | ⃝ | ⨉ |\n",
      "    +---+---+---+---+\n",
      "    \n",
      "Enter x and y coordinates: x y\n"
     ]
    },
    {
     "name": "stdin",
     "output_type": "stream",
     "text": [
      " 2 0\n"
     ]
    },
    {
     "name": "stdout",
     "output_type": "stream",
     "text": [
      "You've made a move\n",
      "\n",
      "    +---+---+---+---+\n",
      "    |   | 0 | 1 | 2 |\n",
      "    |---+---+---+---|\n",
      "    | 0 | ⃝ | ⨉ |   |\n",
      "    |---+---+---+---|\n",
      "    | 1 | ⨉ | ⨉ | ⃝ |\n",
      "    |---+---+---+---|\n",
      "    | 2 | ⃝ | ⃝ | ⨉ |\n",
      "    +---+---+---+---+\n",
      "    \n",
      "Bot makes move [0 2]\n",
      "The game is over\n",
      "\n",
      "    +---+---+---+---+\n",
      "    |   | 0 | 1 | 2 |\n",
      "    |---+---+---+---|\n",
      "    | 0 | ⃝ | ⨉ | ⨉ |\n",
      "    |---+---+---+---|\n",
      "    | 1 | ⨉ | ⨉ | ⃝ |\n",
      "    |---+---+---+---|\n",
      "    | 2 | ⃝ | ⃝ | ⨉ |\n",
      "    +---+---+---+---+\n",
      "    \n",
      "It is a draw\n"
     ]
    }
   ],
   "source": [
    "def start_game():\n",
    "    print('The new game starts. Please choose your turn (1 or 2)')\n",
    "    while True:\n",
    "        inp  = input()\n",
    "        try:\n",
    "            if int(inp) != 1 and int(inp) != 2:\n",
    "                print(f'Input {inp} is incorrect. Print 1 or 2')\n",
    "                continue\n",
    "        except:\n",
    "            print(f'Input {inp} is incorrect. Print 1 or 2')\n",
    "            continue\n",
    "        turn  = int(inp)\n",
    "        break\n",
    "    board = init_board()\n",
    "    count = 1\n",
    "    while True:\n",
    "        display(board)\n",
    "        if count % 2 == turn % 2:\n",
    "            board = player_turn(board, 2 - count % 2)\n",
    "        else:\n",
    "            board = bot_turn(board, 2 - count % 2)\n",
    "        game_status = is_end(board)\n",
    "        if game_status[0]:\n",
    "            print('The game is over')\n",
    "            display(board)\n",
    "            if game_status[1] == None:\n",
    "                print('It is a draw')\n",
    "            else:\n",
    "                print('YOU {}'.format('WON!!!' if count % 2 == turn % 2 else 'LOSE :(())'))\n",
    "            break\n",
    "        count += 1\n",
    "start_game()"
   ]
  },
  {
   "cell_type": "code",
   "execution_count": null,
   "metadata": {},
   "outputs": [],
   "source": []
  }
 ],
 "metadata": {
  "kernelspec": {
   "display_name": "Python 3",
   "language": "python",
   "name": "python3"
  },
  "language_info": {
   "codemirror_mode": {
    "name": "ipython",
    "version": 3
   },
   "file_extension": ".py",
   "mimetype": "text/x-python",
   "name": "python",
   "nbconvert_exporter": "python",
   "pygments_lexer": "ipython3",
   "version": "3.6.8"
  }
 },
 "nbformat": 4,
 "nbformat_minor": 4
}
