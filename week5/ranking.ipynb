{
 "cells": [
  {
   "cell_type": "code",
   "execution_count": 1,
   "metadata": {},
   "outputs": [
    {
     "name": "stdout",
     "output_type": "stream",
     "text": [
      "Requirement already satisfied: nltk in /usr/local/lib/python3.6/dist-packages (3.4.5)\n",
      "Requirement already satisfied: six in /usr/lib/python3/dist-packages (from nltk) (1.11.0)\n",
      "\u001b[33mWARNING: You are using pip version 19.1.1, however version 20.0.2 is available.\n",
      "You should consider upgrading via the 'pip install --upgrade pip' command.\u001b[0m\n"
     ]
    }
   ],
   "source": [
    "!pip install nltk"
   ]
  },
  {
   "cell_type": "code",
   "execution_count": 7,
   "metadata": {},
   "outputs": [],
   "source": [
    "import re\n",
    "import numpy as np\n",
    "from collections import Counter\n",
    "import nltk"
   ]
  },
  {
   "cell_type": "markdown",
   "metadata": {},
   "source": [
    "### Preprocess"
   ]
  },
  {
   "cell_type": "code",
   "execution_count": 8,
   "metadata": {},
   "outputs": [
    {
     "name": "stderr",
     "output_type": "stream",
     "text": [
      "[nltk_data] Downloading package wordnet to /apt/nltk_data...\n",
      "[nltk_data]   Package wordnet is already up-to-date!\n",
      "[nltk_data] Downloading package punkt to /apt/nltk_data...\n",
      "[nltk_data]   Package punkt is already up-to-date!\n"
     ]
    }
   ],
   "source": [
    "from nltk.stem import WordNetLemmatizer \n",
    "nltk.download('wordnet')\n",
    "from nltk.tokenize import word_tokenize\n",
    "nltk.download('punkt')\n",
    "\n",
    "def preprocess(text):\n",
    "    text = text.lower() #to lower case\n",
    "    # dealing with numbers (remmoving)\n",
    "    text = re.sub(r'[0-9]', ' ', text) # removing\n",
    "    # removing punctuations, accent marks and other diacritics\n",
    "    # also removes dots from abbreviations \n",
    "    text = re.sub(r'[^\\w\\s]', '', text)\n",
    "    # remove unnecessery space symbols\n",
    "    text = re.sub(r'[\\s]+', ' ', text)\n",
    "    return text\n",
    "\n",
    "def tokenize(text):\n",
    "    return word_tokenize(text)\n",
    "\n",
    "def lemmatization(tokens):\n",
    "    lemmatizer = WordNetLemmatizer() \n",
    "    return [lemmatizer.lemmatize(i) for i in tokens]\n",
    "\n",
    "def full_preprocess(text):\n",
    "    text = preprocess(text)\n",
    "    tokens = tokenize(text)\n",
    "    tokens = lemmatization(tokens)\n",
    "    text = ' '.join(tokens)\n",
    "    return text"
   ]
  },
  {
   "cell_type": "markdown",
   "metadata": {},
   "source": [
    "### File parsing"
   ]
  },
  {
   "cell_type": "code",
   "execution_count": 9,
   "metadata": {},
   "outputs": [],
   "source": [
    "def file_parser(path):\n",
    "    with open(path, 'r') as f:\n",
    "        lines = f.read().split('\\n');\n",
    "        texts = []\n",
    "        for l in lines:\n",
    "            z = re.match(r'\\d+\\.\\s*(?P<text>.*)', l)\n",
    "            tmp = z.group('text')\n",
    "            texts.append(tmp)\n",
    "        return texts\n",
    "texts = file_parser('data/facts.txt')\n",
    "corpus = [full_preprocess(t) for t in texts]"
   ]
  },
  {
   "cell_type": "code",
   "execution_count": 10,
   "metadata": {},
   "outputs": [],
   "source": [
    "from sklearn.feature_extraction.text import TfidfVectorizer\n",
    "def make_DTM(texts):\n",
    "    vectorizer = TfidfVectorizer()\n",
    "    res = vectorizer.fit_transform(texts)\n",
    "    return res.todense(), vectorizer\n",
    "DTM, vect = make_DTM(corpus)"
   ]
  },
  {
   "cell_type": "code",
   "execution_count": 11,
   "metadata": {},
   "outputs": [],
   "source": [
    "from sklearn.decomposition import PCA\n",
    "pca = PCA(n_components=105)\n",
    "latent = pca.fit_transform(DTM)\n",
    "pca.explained_variance_ratio_.sum()\n",
    "proj = pca.inverse_transform(latent)\n"
   ]
  },
  {
   "cell_type": "code",
   "execution_count": 12,
   "metadata": {},
   "outputs": [
    {
     "data": {
      "text/plain": [
       "(159, 105)"
      ]
     },
     "execution_count": 12,
     "metadata": {},
     "output_type": "execute_result"
    }
   ],
   "source": [
    "latent.shape"
   ]
  },
  {
   "cell_type": "code",
   "execution_count": 19,
   "metadata": {},
   "outputs": [],
   "source": [
    "def query_process(query, vectorizer, pca):\n",
    "    query = full_preprocess(query)\n",
    "    vector = np.zeros(len(vectorizer.get_feature_names()))\n",
    "    '''\n",
    "    for t in query.split():\n",
    "        if t in vect.get_feature_names():\n",
    "    '''     \n",
    "    \n",
    "    counts = Counter(query.split())\n",
    "    for c in counts:\n",
    "        try:\n",
    "            vector[vectorizer.get_feature_names().index(c)] += counts[c]\n",
    "        except:\n",
    "            pass\n",
    "    vector = vector * vectorizer.idf_\n",
    "    compressed_q = pca.transform(vector.reshape(1, -1))\n",
    "    return compressed_q"
   ]
  },
  {
   "cell_type": "code",
   "execution_count": null,
   "metadata": {},
   "outputs": [],
   "source": []
  },
  {
   "cell_type": "code",
   "execution_count": 28,
   "metadata": {},
   "outputs": [
    {
     "data": {
      "text/html": [
       "<div>\n",
       "<style scoped>\n",
       "    .dataframe tbody tr th:only-of-type {\n",
       "        vertical-align: middle;\n",
       "    }\n",
       "\n",
       "    .dataframe tbody tr th {\n",
       "        vertical-align: top;\n",
       "    }\n",
       "\n",
       "    .dataframe thead th {\n",
       "        text-align: right;\n",
       "    }\n",
       "</style>\n",
       "<table border=\"1\" class=\"dataframe\">\n",
       "  <thead>\n",
       "    <tr style=\"text-align: right;\">\n",
       "      <th></th>\n",
       "      <th>Doc number</th>\n",
       "      <th>Content</th>\n",
       "      <th>Similarity</th>\n",
       "    </tr>\n",
       "  </thead>\n",
       "  <tbody>\n",
       "    <tr>\n",
       "      <th>0</th>\n",
       "      <td>39</td>\n",
       "      <td>It is physically impossible for pigs to look u...</td>\n",
       "      <td>0.828436</td>\n",
       "    </tr>\n",
       "    <tr>\n",
       "      <th>1</th>\n",
       "      <td>7</td>\n",
       "      <td>In 1386 a pig in France was executed by public...</td>\n",
       "      <td>0.693618</td>\n",
       "    </tr>\n",
       "  </tbody>\n",
       "</table>\n",
       "</div>"
      ],
      "text/plain": [
       "  Doc number                                            Content  Similarity\n",
       "0         39  It is physically impossible for pigs to look u...    0.828436\n",
       "1          7  In 1386 a pig in France was executed by public...    0.693618"
      ]
     },
     "execution_count": 28,
     "metadata": {},
     "output_type": "execute_result"
    }
   ],
   "source": [
    "import pandas as pd\n",
    "from sklearn.metrics.pairwise import cosine_similarity\n",
    "def search(latent, compressed_q):\n",
    "    values = cosine_similarity(latent, compressed_q).reshape(1, -1)[0]\n",
    "    args = values.argsort()[::-1]\n",
    "    ranking = pd.DataFrame()\n",
    "    for i in range(len(args)):\n",
    "        ranking.loc[i, 'Doc number'] = str(int(args[i]))\n",
    "        ranking.loc[i,'Content'] = texts[args[i]]\n",
    "        ranking.loc[i, 'Similarity'] = values[args[i]]\n",
    "    return ranking"
   ]
  },
  {
   "cell_type": "code",
   "execution_count": 31,
   "metadata": {},
   "outputs": [
    {
     "data": {
      "text/html": [
       "<div>\n",
       "<style scoped>\n",
       "    .dataframe tbody tr th:only-of-type {\n",
       "        vertical-align: middle;\n",
       "    }\n",
       "\n",
       "    .dataframe tbody tr th {\n",
       "        vertical-align: top;\n",
       "    }\n",
       "\n",
       "    .dataframe thead th {\n",
       "        text-align: right;\n",
       "    }\n",
       "</style>\n",
       "<table border=\"1\" class=\"dataframe\">\n",
       "  <thead>\n",
       "    <tr style=\"text-align: right;\">\n",
       "      <th></th>\n",
       "      <th>Doc number</th>\n",
       "      <th>Content</th>\n",
       "      <th>Similarity</th>\n",
       "    </tr>\n",
       "  </thead>\n",
       "  <tbody>\n",
       "    <tr>\n",
       "      <th>0</th>\n",
       "      <td>39</td>\n",
       "      <td>It is physically impossible for pigs to look u...</td>\n",
       "      <td>0.828436</td>\n",
       "    </tr>\n",
       "    <tr>\n",
       "      <th>1</th>\n",
       "      <td>7</td>\n",
       "      <td>In 1386 a pig in France was executed by public...</td>\n",
       "      <td>0.693618</td>\n",
       "    </tr>\n",
       "    <tr>\n",
       "      <th>2</th>\n",
       "      <td>148</td>\n",
       "      <td>It is impossible to sneeze with your eyes open.</td>\n",
       "      <td>0.121952</td>\n",
       "    </tr>\n",
       "    <tr>\n",
       "      <th>3</th>\n",
       "      <td>118</td>\n",
       "      <td>It takes about 3,000 cows to supply enough lea...</td>\n",
       "      <td>0.078769</td>\n",
       "    </tr>\n",
       "    <tr>\n",
       "      <th>4</th>\n",
       "      <td>15</td>\n",
       "      <td>Men are 6 times more likely to be struck by li...</td>\n",
       "      <td>0.076661</td>\n",
       "    </tr>\n",
       "  </tbody>\n",
       "</table>\n",
       "</div>"
      ],
      "text/plain": [
       "  Doc number                                            Content  Similarity\n",
       "0         39  It is physically impossible for pigs to look u...    0.828436\n",
       "1          7  In 1386 a pig in France was executed by public...    0.693618\n",
       "2        148    It is impossible to sneeze with your eyes open.    0.121952\n",
       "3        118  It takes about 3,000 cows to supply enough lea...    0.078769\n",
       "4         15  Men are 6 times more likely to be struck by li...    0.076661"
      ]
     },
     "execution_count": 31,
     "metadata": {},
     "output_type": "execute_result"
    }
   ],
   "source": [
    "query = 'pigs'\n",
    "compressed_q = query_process(query, vect, pca)\n",
    "ranking = search(latent, compressed_q)\n",
    "ranking.head()"
   ]
  },
  {
   "cell_type": "code",
   "execution_count": 32,
   "metadata": {},
   "outputs": [
    {
     "data": {
      "text/html": [
       "<div>\n",
       "<style scoped>\n",
       "    .dataframe tbody tr th:only-of-type {\n",
       "        vertical-align: middle;\n",
       "    }\n",
       "\n",
       "    .dataframe tbody tr th {\n",
       "        vertical-align: top;\n",
       "    }\n",
       "\n",
       "    .dataframe thead th {\n",
       "        text-align: right;\n",
       "    }\n",
       "</style>\n",
       "<table border=\"1\" class=\"dataframe\">\n",
       "  <thead>\n",
       "    <tr style=\"text-align: right;\">\n",
       "      <th></th>\n",
       "      <th>Doc number</th>\n",
       "      <th>Content</th>\n",
       "      <th>Similarity</th>\n",
       "    </tr>\n",
       "  </thead>\n",
       "  <tbody>\n",
       "    <tr>\n",
       "      <th>0</th>\n",
       "      <td>112</td>\n",
       "      <td>Cows kill more people than sharks do.</td>\n",
       "      <td>0.550549</td>\n",
       "    </tr>\n",
       "    <tr>\n",
       "      <th>1</th>\n",
       "      <td>37</td>\n",
       "      <td>95% of people text things they could never say...</td>\n",
       "      <td>0.486878</td>\n",
       "    </tr>\n",
       "    <tr>\n",
       "      <th>2</th>\n",
       "      <td>101</td>\n",
       "      <td>Blue-eyed people tend to have the highest tole...</td>\n",
       "      <td>0.465211</td>\n",
       "    </tr>\n",
       "    <tr>\n",
       "      <th>3</th>\n",
       "      <td>104</td>\n",
       "      <td>Every year more than 2500 left-handed people a...</td>\n",
       "      <td>0.444751</td>\n",
       "    </tr>\n",
       "    <tr>\n",
       "      <th>4</th>\n",
       "      <td>45</td>\n",
       "      <td>About 150 people per year are killed by coconuts.</td>\n",
       "      <td>0.429693</td>\n",
       "    </tr>\n",
       "  </tbody>\n",
       "</table>\n",
       "</div>"
      ],
      "text/plain": [
       "  Doc number                                            Content  Similarity\n",
       "0        112              Cows kill more people than sharks do.    0.550549\n",
       "1         37  95% of people text things they could never say...    0.486878\n",
       "2        101  Blue-eyed people tend to have the highest tole...    0.465211\n",
       "3        104  Every year more than 2500 left-handed people a...    0.444751\n",
       "4         45  About 150 people per year are killed by coconuts.    0.429693"
      ]
     },
     "execution_count": 32,
     "metadata": {},
     "output_type": "execute_result"
    }
   ],
   "source": [
    "query = 'people'\n",
    "compressed_q = query_process(query, vect, pca)\n",
    "ranking = search(latent, compressed_q)\n",
    "ranking.head()"
   ]
  },
  {
   "cell_type": "code",
   "execution_count": 33,
   "metadata": {},
   "outputs": [
    {
     "data": {
      "text/html": [
       "<div>\n",
       "<style scoped>\n",
       "    .dataframe tbody tr th:only-of-type {\n",
       "        vertical-align: middle;\n",
       "    }\n",
       "\n",
       "    .dataframe tbody tr th {\n",
       "        vertical-align: top;\n",
       "    }\n",
       "\n",
       "    .dataframe thead th {\n",
       "        text-align: right;\n",
       "    }\n",
       "</style>\n",
       "<table border=\"1\" class=\"dataframe\">\n",
       "  <thead>\n",
       "    <tr style=\"text-align: right;\">\n",
       "      <th></th>\n",
       "      <th>Doc number</th>\n",
       "      <th>Content</th>\n",
       "      <th>Similarity</th>\n",
       "    </tr>\n",
       "  </thead>\n",
       "  <tbody>\n",
       "    <tr>\n",
       "      <th>0</th>\n",
       "      <td>97</td>\n",
       "      <td>Of all the words in the English language, the ...</td>\n",
       "      <td>0.840438</td>\n",
       "    </tr>\n",
       "    <tr>\n",
       "      <th>1</th>\n",
       "      <td>58</td>\n",
       "      <td>The word “gorilla” is derived from a Greek wor...</td>\n",
       "      <td>0.761232</td>\n",
       "    </tr>\n",
       "    <tr>\n",
       "      <th>2</th>\n",
       "      <td>122</td>\n",
       "      <td>Dogs are capable of understanding up to 250 wo...</td>\n",
       "      <td>0.344539</td>\n",
       "    </tr>\n",
       "    <tr>\n",
       "      <th>3</th>\n",
       "      <td>29</td>\n",
       "      <td>Bob Marley’s last words to his son before he d...</td>\n",
       "      <td>0.343188</td>\n",
       "    </tr>\n",
       "    <tr>\n",
       "      <th>4</th>\n",
       "      <td>143</td>\n",
       "      <td>What is called a “French kiss” in the English-...</td>\n",
       "      <td>0.312965</td>\n",
       "    </tr>\n",
       "  </tbody>\n",
       "</table>\n",
       "</div>"
      ],
      "text/plain": [
       "  Doc number                                            Content  Similarity\n",
       "0         97  Of all the words in the English language, the ...    0.840438\n",
       "1         58  The word “gorilla” is derived from a Greek wor...    0.761232\n",
       "2        122  Dogs are capable of understanding up to 250 wo...    0.344539\n",
       "3         29  Bob Marley’s last words to his son before he d...    0.343188\n",
       "4        143  What is called a “French kiss” in the English-...    0.312965"
      ]
     },
     "execution_count": 33,
     "metadata": {},
     "output_type": "execute_result"
    }
   ],
   "source": [
    "query = 'English words'\n",
    "compressed_q = query_process(query, vect, pca)\n",
    "ranking = search(latent, compressed_q)\n",
    "ranking.head()"
   ]
  },
  {
   "cell_type": "code",
   "execution_count": 37,
   "metadata": {},
   "outputs": [
    {
     "name": "stdout",
     "output_type": "stream",
     "text": [
      "The word “gorilla” is derived from a Greek word meaning, “A tribe of hairy women.”\n"
     ]
    },
    {
     "name": "stderr",
     "output_type": "stream",
     "text": [
      "/usr/local/lib/python3.6/dist-packages/ipykernel_launcher.py:1: FutureWarning: `item` has been deprecated and will be removed in a future version\n",
      "  \"\"\"Entry point for launching an IPython kernel.\n"
     ]
    }
   ],
   "source": [
    "print(ranking[ranking['Doc number'] == '58']['Content'].item())"
   ]
  },
  {
   "cell_type": "code",
   "execution_count": null,
   "metadata": {},
   "outputs": [],
   "source": []
  }
 ],
 "metadata": {
  "kernelspec": {
   "display_name": "Python 3",
   "language": "python",
   "name": "python3"
  },
  "language_info": {
   "codemirror_mode": {
    "name": "ipython",
    "version": 3
   },
   "file_extension": ".py",
   "mimetype": "text/x-python",
   "name": "python",
   "nbconvert_exporter": "python",
   "pygments_lexer": "ipython3",
   "version": "3.6.8"
  }
 },
 "nbformat": 4,
 "nbformat_minor": 4
}
